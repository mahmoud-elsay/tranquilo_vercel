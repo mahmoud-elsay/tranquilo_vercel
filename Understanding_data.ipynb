{
  "cells": [
    {
      "cell_type": "markdown",
      "metadata": {
        "id": "AwwMUiaknaQW"
      },
      "source": [
        "# **About the Notebook**"
      ]
    },
    {
      "cell_type": "markdown",
      "metadata": {
        "id": "nIJUoll6nE1u"
      },
      "source": [
        "**This notebook is for understanding the data we will use to build the machine learning model          \n",
        "It contains some information about the data, graphs, and removing unused objects**"
      ]
    },
    {
      "cell_type": "markdown",
      "metadata": {},
      "source": [
        "# **Explanation of each feature within the dataset**"
      ]
    },
    {
      "cell_type": "markdown",
      "metadata": {},
      "source": [
        "| Column\t | Description|\n",
        "|----------|----------|\n",
        "| age\t | Age of participants|\n",
        "| gender\t |Gender of each participant |\n",
        "| bmi\t | body mass index|\n",
        "| who_bmi\t\t |bmi category |\n",
        "| phq_score\t | measure the severity of symptoms related to depression, anxiety, andother related disorders in patients|\n",
        "| depression_severity\t |degree or intensity of symptoms experienced by an individual with depression |\n",
        "| depressiveness\t\t | Is he suffering from depression|\n",
        "| suicidal\t\t | the candidate have suicide thought|\n",
        "| depression_diagnosis\t\t |the candidate already have depression diagnosis|\n",
        "| depression_treatment\t\t | the candidate already have depression treatment|\n",
        "| gad_score\t\t\t |measure that assesses the severity of Generalized Anxiety Disorder|\n",
        "| anxiety_severity\t\t | intensity of symptoms experienced by an individual wit anxiety|\n",
        "| anxiousness\t\t |Feeling anxiety or not |\n",
        "| anxiety_diagnosis\t\t\t |the candidate already have anxiety diagnosis |\n",
        "| anxiety_treatment\t\t |the candidate already have anxiety treatment |\n",
        "| epworth_score\t\t |score to assess daytime sleepiness daytime sleepiness |\n",
        "| sleepiness\t |Feel sleepy or not |"
      ]
    },
    {
      "cell_type": "markdown",
      "metadata": {
        "id": "thbysOr5nE1w"
      },
      "source": [
        "# **Data Gathering**"
      ]
    },
    {
      "cell_type": "code",
      "execution_count": 1,
      "metadata": {
        "id": "3z4mYKMLnE1x"
      },
      "outputs": [],
      "source": [
        "import pandas as pd\n",
        "import numpy as np\n",
        "import seaborn as sns\n",
        "import matplotlib.pyplot as plt\n",
        "import warnings\n",
        "warnings.filterwarnings('ignore')"
      ]
    },
    {
      "cell_type": "code",
      "execution_count": 2,
      "metadata": {
        "id": "3b05aXjpnE1z"
      },
      "outputs": [
        {
          "name": "stdout",
          "output_type": "stream",
          "text": [
            "Whole dataset: \n"
          ]
        },
        {
          "data": {
            "text/html": [
              "<div>\n",
              "<style scoped>\n",
              "    .dataframe tbody tr th:only-of-type {\n",
              "        vertical-align: middle;\n",
              "    }\n",
              "\n",
              "    .dataframe tbody tr th {\n",
              "        vertical-align: top;\n",
              "    }\n",
              "\n",
              "    .dataframe thead th {\n",
              "        text-align: right;\n",
              "    }\n",
              "</style>\n",
              "<table border=\"1\" class=\"dataframe\">\n",
              "  <thead>\n",
              "    <tr style=\"text-align: right;\">\n",
              "      <th></th>\n",
              "      <th>age</th>\n",
              "      <th>gender</th>\n",
              "      <th>bmi</th>\n",
              "      <th>who_bmi</th>\n",
              "      <th>phq_score</th>\n",
              "      <th>depression_severity</th>\n",
              "      <th>depressiveness</th>\n",
              "      <th>suicidal</th>\n",
              "      <th>depression_diagnosis</th>\n",
              "      <th>depression_treatment</th>\n",
              "      <th>gad_score</th>\n",
              "      <th>anxiety_severity</th>\n",
              "      <th>anxiousness</th>\n",
              "      <th>anxiety_diagnosis</th>\n",
              "      <th>anxiety_treatment</th>\n",
              "      <th>epworth_score</th>\n",
              "      <th>sleepiness</th>\n",
              "    </tr>\n",
              "  </thead>\n",
              "  <tbody>\n",
              "    <tr>\n",
              "      <th>0</th>\n",
              "      <td>19</td>\n",
              "      <td>male</td>\n",
              "      <td>33.333333</td>\n",
              "      <td>Class I Obesity</td>\n",
              "      <td>9</td>\n",
              "      <td>Mild</td>\n",
              "      <td>False</td>\n",
              "      <td>False</td>\n",
              "      <td>False</td>\n",
              "      <td>False</td>\n",
              "      <td>11</td>\n",
              "      <td>Moderate</td>\n",
              "      <td>True</td>\n",
              "      <td>False</td>\n",
              "      <td>False</td>\n",
              "      <td>7.0</td>\n",
              "      <td>False</td>\n",
              "    </tr>\n",
              "    <tr>\n",
              "      <th>1</th>\n",
              "      <td>18</td>\n",
              "      <td>male</td>\n",
              "      <td>19.841270</td>\n",
              "      <td>Normal</td>\n",
              "      <td>8</td>\n",
              "      <td>Mild</td>\n",
              "      <td>False</td>\n",
              "      <td>False</td>\n",
              "      <td>False</td>\n",
              "      <td>False</td>\n",
              "      <td>5</td>\n",
              "      <td>Mild</td>\n",
              "      <td>False</td>\n",
              "      <td>False</td>\n",
              "      <td>False</td>\n",
              "      <td>14.0</td>\n",
              "      <td>True</td>\n",
              "    </tr>\n",
              "    <tr>\n",
              "      <th>2</th>\n",
              "      <td>19</td>\n",
              "      <td>male</td>\n",
              "      <td>25.102391</td>\n",
              "      <td>Overweight</td>\n",
              "      <td>8</td>\n",
              "      <td>Mild</td>\n",
              "      <td>False</td>\n",
              "      <td>False</td>\n",
              "      <td>False</td>\n",
              "      <td>False</td>\n",
              "      <td>6</td>\n",
              "      <td>Mild</td>\n",
              "      <td>False</td>\n",
              "      <td>False</td>\n",
              "      <td>False</td>\n",
              "      <td>6.0</td>\n",
              "      <td>False</td>\n",
              "    </tr>\n",
              "    <tr>\n",
              "      <th>3</th>\n",
              "      <td>18</td>\n",
              "      <td>female</td>\n",
              "      <td>23.738662</td>\n",
              "      <td>Normal</td>\n",
              "      <td>19</td>\n",
              "      <td>Moderately severe</td>\n",
              "      <td>True</td>\n",
              "      <td>True</td>\n",
              "      <td>False</td>\n",
              "      <td>False</td>\n",
              "      <td>15</td>\n",
              "      <td>Severe</td>\n",
              "      <td>True</td>\n",
              "      <td>False</td>\n",
              "      <td>False</td>\n",
              "      <td>11.0</td>\n",
              "      <td>True</td>\n",
              "    </tr>\n",
              "    <tr>\n",
              "      <th>4</th>\n",
              "      <td>18</td>\n",
              "      <td>male</td>\n",
              "      <td>25.617284</td>\n",
              "      <td>Overweight</td>\n",
              "      <td>6</td>\n",
              "      <td>Mild</td>\n",
              "      <td>False</td>\n",
              "      <td>False</td>\n",
              "      <td>False</td>\n",
              "      <td>False</td>\n",
              "      <td>14</td>\n",
              "      <td>Moderate</td>\n",
              "      <td>True</td>\n",
              "      <td>False</td>\n",
              "      <td>False</td>\n",
              "      <td>3.0</td>\n",
              "      <td>False</td>\n",
              "    </tr>\n",
              "    <tr>\n",
              "      <th>...</th>\n",
              "      <td>...</td>\n",
              "      <td>...</td>\n",
              "      <td>...</td>\n",
              "      <td>...</td>\n",
              "      <td>...</td>\n",
              "      <td>...</td>\n",
              "      <td>...</td>\n",
              "      <td>...</td>\n",
              "      <td>...</td>\n",
              "      <td>...</td>\n",
              "      <td>...</td>\n",
              "      <td>...</td>\n",
              "      <td>...</td>\n",
              "      <td>...</td>\n",
              "      <td>...</td>\n",
              "      <td>...</td>\n",
              "      <td>...</td>\n",
              "    </tr>\n",
              "    <tr>\n",
              "      <th>1561</th>\n",
              "      <td>24</td>\n",
              "      <td>female</td>\n",
              "      <td>21.096191</td>\n",
              "      <td>Normal</td>\n",
              "      <td>6</td>\n",
              "      <td>Mild</td>\n",
              "      <td>False</td>\n",
              "      <td>False</td>\n",
              "      <td>False</td>\n",
              "      <td>False</td>\n",
              "      <td>1</td>\n",
              "      <td>None-minimal</td>\n",
              "      <td>False</td>\n",
              "      <td>False</td>\n",
              "      <td>False</td>\n",
              "      <td>3.0</td>\n",
              "      <td>False</td>\n",
              "    </tr>\n",
              "    <tr>\n",
              "      <th>1562</th>\n",
              "      <td>22</td>\n",
              "      <td>male</td>\n",
              "      <td>25.308642</td>\n",
              "      <td>Overweight</td>\n",
              "      <td>4</td>\n",
              "      <td>None-minimal</td>\n",
              "      <td>False</td>\n",
              "      <td>False</td>\n",
              "      <td>False</td>\n",
              "      <td>False</td>\n",
              "      <td>6</td>\n",
              "      <td>Mild</td>\n",
              "      <td>False</td>\n",
              "      <td>False</td>\n",
              "      <td>False</td>\n",
              "      <td>3.0</td>\n",
              "      <td>False</td>\n",
              "    </tr>\n",
              "    <tr>\n",
              "      <th>1563</th>\n",
              "      <td>22</td>\n",
              "      <td>male</td>\n",
              "      <td>22.720438</td>\n",
              "      <td>Normal</td>\n",
              "      <td>2</td>\n",
              "      <td>None-minimal</td>\n",
              "      <td>False</td>\n",
              "      <td>False</td>\n",
              "      <td>False</td>\n",
              "      <td>False</td>\n",
              "      <td>5</td>\n",
              "      <td>Mild</td>\n",
              "      <td>False</td>\n",
              "      <td>False</td>\n",
              "      <td>False</td>\n",
              "      <td>4.0</td>\n",
              "      <td>False</td>\n",
              "    </tr>\n",
              "    <tr>\n",
              "      <th>1564</th>\n",
              "      <td>22</td>\n",
              "      <td>female</td>\n",
              "      <td>23.033168</td>\n",
              "      <td>Normal</td>\n",
              "      <td>17</td>\n",
              "      <td>Moderately severe</td>\n",
              "      <td>True</td>\n",
              "      <td>False</td>\n",
              "      <td>False</td>\n",
              "      <td>False</td>\n",
              "      <td>19</td>\n",
              "      <td>Severe</td>\n",
              "      <td>True</td>\n",
              "      <td>False</td>\n",
              "      <td>False</td>\n",
              "      <td>15.0</td>\n",
              "      <td>True</td>\n",
              "    </tr>\n",
              "    <tr>\n",
              "      <th>1565</th>\n",
              "      <td>22</td>\n",
              "      <td>male</td>\n",
              "      <td>22.598140</td>\n",
              "      <td>Normal</td>\n",
              "      <td>6</td>\n",
              "      <td>Mild</td>\n",
              "      <td>False</td>\n",
              "      <td>False</td>\n",
              "      <td>False</td>\n",
              "      <td>False</td>\n",
              "      <td>6</td>\n",
              "      <td>Mild</td>\n",
              "      <td>False</td>\n",
              "      <td>False</td>\n",
              "      <td>False</td>\n",
              "      <td>0.0</td>\n",
              "      <td>False</td>\n",
              "    </tr>\n",
              "  </tbody>\n",
              "</table>\n",
              "<p>1566 rows × 17 columns</p>\n",
              "</div>"
            ],
            "text/plain": [
              "      age  gender        bmi          who_bmi  phq_score depression_severity  \\\n",
              "0      19    male  33.333333  Class I Obesity          9                Mild   \n",
              "1      18    male  19.841270           Normal          8                Mild   \n",
              "2      19    male  25.102391       Overweight          8                Mild   \n",
              "3      18  female  23.738662           Normal         19   Moderately severe   \n",
              "4      18    male  25.617284       Overweight          6                Mild   \n",
              "...   ...     ...        ...              ...        ...                 ...   \n",
              "1561   24  female  21.096191           Normal          6                Mild   \n",
              "1562   22    male  25.308642       Overweight          4        None-minimal   \n",
              "1563   22    male  22.720438           Normal          2        None-minimal   \n",
              "1564   22  female  23.033168           Normal         17   Moderately severe   \n",
              "1565   22    male  22.598140           Normal          6                Mild   \n",
              "\n",
              "     depressiveness suicidal depression_diagnosis depression_treatment  \\\n",
              "0             False    False                False                False   \n",
              "1             False    False                False                False   \n",
              "2             False    False                False                False   \n",
              "3              True     True                False                False   \n",
              "4             False    False                False                False   \n",
              "...             ...      ...                  ...                  ...   \n",
              "1561          False    False                False                False   \n",
              "1562          False    False                False                False   \n",
              "1563          False    False                False                False   \n",
              "1564           True    False                False                False   \n",
              "1565          False    False                False                False   \n",
              "\n",
              "      gad_score anxiety_severity anxiousness anxiety_diagnosis  \\\n",
              "0            11         Moderate        True             False   \n",
              "1             5             Mild       False             False   \n",
              "2             6             Mild       False             False   \n",
              "3            15           Severe        True             False   \n",
              "4            14         Moderate        True             False   \n",
              "...         ...              ...         ...               ...   \n",
              "1561          1     None-minimal       False             False   \n",
              "1562          6             Mild       False             False   \n",
              "1563          5             Mild       False             False   \n",
              "1564         19           Severe        True             False   \n",
              "1565          6             Mild       False             False   \n",
              "\n",
              "     anxiety_treatment  epworth_score sleepiness  \n",
              "0                False            7.0      False  \n",
              "1                False           14.0       True  \n",
              "2                False            6.0      False  \n",
              "3                False           11.0       True  \n",
              "4                False            3.0      False  \n",
              "...                ...            ...        ...  \n",
              "1561             False            3.0      False  \n",
              "1562             False            3.0      False  \n",
              "1563             False            4.0      False  \n",
              "1564             False           15.0       True  \n",
              "1565             False            0.0      False  \n",
              "\n",
              "[1566 rows x 17 columns]"
            ]
          },
          "execution_count": 2,
          "metadata": {},
          "output_type": "execute_result"
        }
      ],
      "source": [
        "# Load the dataset\n",
        "df=pd.read_csv(\"Anxiety.csv\")\n",
        "print(\"Whole dataset: \")\n",
        "df"
      ]
    },
    {
      "cell_type": "markdown",
      "metadata": {
        "id": "jsOfypqEn_AV"
      },
      "source": [
        "# **Exploratory Data Analysis(EDA)**"
      ]
    },
    {
      "cell_type": "code",
      "execution_count": 3,
      "metadata": {
        "id": "1oBOIPkRnE10",
        "outputId": "f466173a-e6c9-460e-ac45-d8b609e1329e"
      },
      "outputs": [
        {
          "name": "stdout",
          "output_type": "stream",
          "text": [
            "Initial rows in in dataset:\n"
          ]
        },
        {
          "data": {
            "text/html": [
              "<div>\n",
              "<style scoped>\n",
              "    .dataframe tbody tr th:only-of-type {\n",
              "        vertical-align: middle;\n",
              "    }\n",
              "\n",
              "    .dataframe tbody tr th {\n",
              "        vertical-align: top;\n",
              "    }\n",
              "\n",
              "    .dataframe thead th {\n",
              "        text-align: right;\n",
              "    }\n",
              "</style>\n",
              "<table border=\"1\" class=\"dataframe\">\n",
              "  <thead>\n",
              "    <tr style=\"text-align: right;\">\n",
              "      <th></th>\n",
              "      <th>age</th>\n",
              "      <th>gender</th>\n",
              "      <th>bmi</th>\n",
              "      <th>who_bmi</th>\n",
              "      <th>phq_score</th>\n",
              "      <th>depression_severity</th>\n",
              "      <th>depressiveness</th>\n",
              "      <th>suicidal</th>\n",
              "      <th>depression_diagnosis</th>\n",
              "      <th>depression_treatment</th>\n",
              "      <th>gad_score</th>\n",
              "      <th>anxiety_severity</th>\n",
              "      <th>anxiousness</th>\n",
              "      <th>anxiety_diagnosis</th>\n",
              "      <th>anxiety_treatment</th>\n",
              "      <th>epworth_score</th>\n",
              "      <th>sleepiness</th>\n",
              "    </tr>\n",
              "  </thead>\n",
              "  <tbody>\n",
              "    <tr>\n",
              "      <th>0</th>\n",
              "      <td>19</td>\n",
              "      <td>male</td>\n",
              "      <td>33.333333</td>\n",
              "      <td>Class I Obesity</td>\n",
              "      <td>9</td>\n",
              "      <td>Mild</td>\n",
              "      <td>False</td>\n",
              "      <td>False</td>\n",
              "      <td>False</td>\n",
              "      <td>False</td>\n",
              "      <td>11</td>\n",
              "      <td>Moderate</td>\n",
              "      <td>True</td>\n",
              "      <td>False</td>\n",
              "      <td>False</td>\n",
              "      <td>7.0</td>\n",
              "      <td>False</td>\n",
              "    </tr>\n",
              "    <tr>\n",
              "      <th>1</th>\n",
              "      <td>18</td>\n",
              "      <td>male</td>\n",
              "      <td>19.841270</td>\n",
              "      <td>Normal</td>\n",
              "      <td>8</td>\n",
              "      <td>Mild</td>\n",
              "      <td>False</td>\n",
              "      <td>False</td>\n",
              "      <td>False</td>\n",
              "      <td>False</td>\n",
              "      <td>5</td>\n",
              "      <td>Mild</td>\n",
              "      <td>False</td>\n",
              "      <td>False</td>\n",
              "      <td>False</td>\n",
              "      <td>14.0</td>\n",
              "      <td>True</td>\n",
              "    </tr>\n",
              "    <tr>\n",
              "      <th>2</th>\n",
              "      <td>19</td>\n",
              "      <td>male</td>\n",
              "      <td>25.102391</td>\n",
              "      <td>Overweight</td>\n",
              "      <td>8</td>\n",
              "      <td>Mild</td>\n",
              "      <td>False</td>\n",
              "      <td>False</td>\n",
              "      <td>False</td>\n",
              "      <td>False</td>\n",
              "      <td>6</td>\n",
              "      <td>Mild</td>\n",
              "      <td>False</td>\n",
              "      <td>False</td>\n",
              "      <td>False</td>\n",
              "      <td>6.0</td>\n",
              "      <td>False</td>\n",
              "    </tr>\n",
              "    <tr>\n",
              "      <th>3</th>\n",
              "      <td>18</td>\n",
              "      <td>female</td>\n",
              "      <td>23.738662</td>\n",
              "      <td>Normal</td>\n",
              "      <td>19</td>\n",
              "      <td>Moderately severe</td>\n",
              "      <td>True</td>\n",
              "      <td>True</td>\n",
              "      <td>False</td>\n",
              "      <td>False</td>\n",
              "      <td>15</td>\n",
              "      <td>Severe</td>\n",
              "      <td>True</td>\n",
              "      <td>False</td>\n",
              "      <td>False</td>\n",
              "      <td>11.0</td>\n",
              "      <td>True</td>\n",
              "    </tr>\n",
              "    <tr>\n",
              "      <th>4</th>\n",
              "      <td>18</td>\n",
              "      <td>male</td>\n",
              "      <td>25.617284</td>\n",
              "      <td>Overweight</td>\n",
              "      <td>6</td>\n",
              "      <td>Mild</td>\n",
              "      <td>False</td>\n",
              "      <td>False</td>\n",
              "      <td>False</td>\n",
              "      <td>False</td>\n",
              "      <td>14</td>\n",
              "      <td>Moderate</td>\n",
              "      <td>True</td>\n",
              "      <td>False</td>\n",
              "      <td>False</td>\n",
              "      <td>3.0</td>\n",
              "      <td>False</td>\n",
              "    </tr>\n",
              "  </tbody>\n",
              "</table>\n",
              "</div>"
            ],
            "text/plain": [
              "   age  gender        bmi          who_bmi  phq_score depression_severity  \\\n",
              "0   19    male  33.333333  Class I Obesity          9                Mild   \n",
              "1   18    male  19.841270           Normal          8                Mild   \n",
              "2   19    male  25.102391       Overweight          8                Mild   \n",
              "3   18  female  23.738662           Normal         19   Moderately severe   \n",
              "4   18    male  25.617284       Overweight          6                Mild   \n",
              "\n",
              "  depressiveness suicidal depression_diagnosis depression_treatment  \\\n",
              "0          False    False                False                False   \n",
              "1          False    False                False                False   \n",
              "2          False    False                False                False   \n",
              "3           True     True                False                False   \n",
              "4          False    False                False                False   \n",
              "\n",
              "   gad_score anxiety_severity anxiousness anxiety_diagnosis anxiety_treatment  \\\n",
              "0         11         Moderate        True             False             False   \n",
              "1          5             Mild       False             False             False   \n",
              "2          6             Mild       False             False             False   \n",
              "3         15           Severe        True             False             False   \n",
              "4         14         Moderate        True             False             False   \n",
              "\n",
              "   epworth_score sleepiness  \n",
              "0            7.0      False  \n",
              "1           14.0       True  \n",
              "2            6.0      False  \n",
              "3           11.0       True  \n",
              "4            3.0      False  "
            ]
          },
          "execution_count": 3,
          "metadata": {},
          "output_type": "execute_result"
        }
      ],
      "source": [
        "# Display the Initial rows in dataset\n",
        "print(\"Initial rows in in dataset:\")\n",
        "df.head()"
      ]
    },
    {
      "cell_type": "code",
      "execution_count": 4,
      "metadata": {
        "id": "JuIfuYfPoMNN"
      },
      "outputs": [
        {
          "name": "stdout",
          "output_type": "stream",
          "text": [
            "Dimensions of the Dataset (Rows, Columns):\n"
          ]
        },
        {
          "data": {
            "text/plain": [
              "(1566, 17)"
            ]
          },
          "execution_count": 4,
          "metadata": {},
          "output_type": "execute_result"
        }
      ],
      "source": [
        "# Get the dimensions of the Dataset\n",
        "print(\"Dimensions of the Dataset (Rows, Columns):\")\n",
        "df.shape"
      ]
    },
    {
      "cell_type": "code",
      "execution_count": 5,
      "metadata": {
        "id": "sDY2LShwoPbs"
      },
      "outputs": [],
      "source": [
        "# Removing any leading, and trailing whitespaces in columns\n",
        "df.columns = df.columns.str.strip()"
      ]
    },
    {
      "cell_type": "code",
      "execution_count": null,
      "metadata": {
        "id": "7M-vkDCsnE12",
        "outputId": "3b13b5f7-ba59-4efa-d99f-403c3135808d"
      },
      "outputs": [
        {
          "name": "stdout",
          "output_type": "stream",
          "text": [
            "<class 'pandas.core.frame.DataFrame'>\n",
            "RangeIndex: 1566 entries, 0 to 1565\n",
            "Data columns (total 17 columns):\n",
            " #   Column                Non-Null Count  Dtype  \n",
            "---  ------                --------------  -----  \n",
            " 0   age                   1566 non-null   int64  \n",
            " 1   gender                1566 non-null   object \n",
            " 2   bmi                   1566 non-null   float64\n",
            " 3   who_bmi               1566 non-null   object \n",
            " 4   phq_score             1566 non-null   int64  \n",
            " 5   depression_severity   1558 non-null   object \n",
            " 6   depressiveness        1560 non-null   object \n",
            " 7   suicidal              1564 non-null   object \n",
            " 8   depression_diagnosis  1564 non-null   object \n",
            " 9   depression_treatment  1558 non-null   object \n",
            " 10  gad_score             1566 non-null   int64  \n",
            " 11  anxiety_severity      1566 non-null   object \n",
            " 12  anxiousness           1554 non-null   object \n",
            " 13  anxiety_diagnosis     1558 non-null   object \n",
            " 14  anxiety_treatment     1562 non-null   object \n",
            " 15  epworth_score         1550 non-null   float64\n",
            " 16  sleepiness            1550 non-null   object \n",
            "dtypes: float64(2), int64(3), object(12)\n",
            "memory usage: 208.1+ KB\n"
          ]
        }
      ],
      "source": [
        "# Getting an overview of the features and their types in the dataset\n",
        "print(\"Overview of the features and their types:\")\n",
        "df.info()"
      ]
    },
    {
      "cell_type": "markdown",
      "metadata": {
        "id": "yx0sGAIMoq4K"
      },
      "source": [
        "> Dataset has 1566 rows, 17 columns/ features\n",
        "\n",
        "\n",
        "> There are some little null values\n",
        "\n",
        "> Most features are Categorical\n",
        "\n",
        "> We have 17 columns:\n",
        "*   15 features\n",
        "*   2 Labels: **gad_score & anxiety_severity**"
      ]
    },
    {
      "cell_type": "code",
      "execution_count": 6,
      "metadata": {
        "id": "rnlb31YwnE14",
        "outputId": "048fb1e2-e5d4-4c3f-b875-396c21120186"
      },
      "outputs": [
        {
          "name": "stdout",
          "output_type": "stream",
          "text": [
            "Statistical summary of numeric features:\n"
          ]
        },
        {
          "data": {
            "text/html": [
              "<div>\n",
              "<style scoped>\n",
              "    .dataframe tbody tr th:only-of-type {\n",
              "        vertical-align: middle;\n",
              "    }\n",
              "\n",
              "    .dataframe tbody tr th {\n",
              "        vertical-align: top;\n",
              "    }\n",
              "\n",
              "    .dataframe thead th {\n",
              "        text-align: right;\n",
              "    }\n",
              "</style>\n",
              "<table border=\"1\" class=\"dataframe\">\n",
              "  <thead>\n",
              "    <tr style=\"text-align: right;\">\n",
              "      <th></th>\n",
              "      <th>count</th>\n",
              "      <th>mean</th>\n",
              "      <th>std</th>\n",
              "      <th>min</th>\n",
              "      <th>25%</th>\n",
              "      <th>50%</th>\n",
              "      <th>75%</th>\n",
              "      <th>max</th>\n",
              "    </tr>\n",
              "  </thead>\n",
              "  <tbody>\n",
              "    <tr>\n",
              "      <th>age</th>\n",
              "      <td>1566.0</td>\n",
              "      <td>20.233716</td>\n",
              "      <td>1.766652</td>\n",
              "      <td>18.0</td>\n",
              "      <td>19.000000</td>\n",
              "      <td>20.000000</td>\n",
              "      <td>21.000000</td>\n",
              "      <td>31.000000</td>\n",
              "    </tr>\n",
              "    <tr>\n",
              "      <th>bmi</th>\n",
              "      <td>1566.0</td>\n",
              "      <td>23.420533</td>\n",
              "      <td>4.562171</td>\n",
              "      <td>0.0</td>\n",
              "      <td>20.980296</td>\n",
              "      <td>23.140496</td>\n",
              "      <td>25.524785</td>\n",
              "      <td>54.552668</td>\n",
              "    </tr>\n",
              "    <tr>\n",
              "      <th>phq_score</th>\n",
              "      <td>1566.0</td>\n",
              "      <td>7.123883</td>\n",
              "      <td>4.425165</td>\n",
              "      <td>0.0</td>\n",
              "      <td>4.000000</td>\n",
              "      <td>6.000000</td>\n",
              "      <td>9.000000</td>\n",
              "      <td>24.000000</td>\n",
              "    </tr>\n",
              "    <tr>\n",
              "      <th>gad_score</th>\n",
              "      <td>1566.0</td>\n",
              "      <td>6.810983</td>\n",
              "      <td>4.725842</td>\n",
              "      <td>0.0</td>\n",
              "      <td>3.000000</td>\n",
              "      <td>6.000000</td>\n",
              "      <td>9.000000</td>\n",
              "      <td>21.000000</td>\n",
              "    </tr>\n",
              "    <tr>\n",
              "      <th>epworth_score</th>\n",
              "      <td>1550.0</td>\n",
              "      <td>6.376774</td>\n",
              "      <td>3.995152</td>\n",
              "      <td>0.0</td>\n",
              "      <td>3.250000</td>\n",
              "      <td>6.000000</td>\n",
              "      <td>9.000000</td>\n",
              "      <td>32.000000</td>\n",
              "    </tr>\n",
              "  </tbody>\n",
              "</table>\n",
              "</div>"
            ],
            "text/plain": [
              "                count       mean       std   min        25%        50%  \\\n",
              "age            1566.0  20.233716  1.766652  18.0  19.000000  20.000000   \n",
              "bmi            1566.0  23.420533  4.562171   0.0  20.980296  23.140496   \n",
              "phq_score      1566.0   7.123883  4.425165   0.0   4.000000   6.000000   \n",
              "gad_score      1566.0   6.810983  4.725842   0.0   3.000000   6.000000   \n",
              "epworth_score  1550.0   6.376774  3.995152   0.0   3.250000   6.000000   \n",
              "\n",
              "                     75%        max  \n",
              "age            21.000000  31.000000  \n",
              "bmi            25.524785  54.552668  \n",
              "phq_score       9.000000  24.000000  \n",
              "gad_score       9.000000  21.000000  \n",
              "epworth_score   9.000000  32.000000  "
            ]
          },
          "execution_count": 6,
          "metadata": {},
          "output_type": "execute_result"
        }
      ],
      "source": [
        "# Getting a statistical summary of the dataset: numerical features\n",
        "print(\"Statistical summary of numeric features:\")\n",
        "df.describe().T"
      ]
    },
    {
      "cell_type": "code",
      "execution_count": 7,
      "metadata": {
        "id": "kXQ_u_89qVcb"
      },
      "outputs": [
        {
          "name": "stdout",
          "output_type": "stream",
          "text": [
            "Statistical summary of categorical features:\n",
            "                     count unique     top  freq\n",
            "gender                1566      2  female   806\n",
            "who_bmi               1566      7  Normal  1020\n",
            "depression_severity   1558      6    Mild   688\n",
            "depressiveness        1560      2   False  1138\n",
            "suicidal              1564      2   False  1426\n",
            "depression_diagnosis  1564      2   False  1432\n",
            "depression_treatment  1558      2   False  1444\n",
            "anxiety_severity      1566      5    Mild   606\n",
            "anxiousness           1554      2   False  1174\n",
            "anxiety_diagnosis     1558      2   False  1436\n",
            "anxiety_treatment     1562      2   False  1442\n",
            "sleepiness            1550      2   False  1268\n"
          ]
        }
      ],
      "source": [
        "# Get a statistical summary of the categorical features\n",
        "print(\"Statistical summary of categorical features:\")\n",
        "categorical_summary = df.describe(include=['object']).T\n",
        "print(categorical_summary)"
      ]
    },
    {
      "cell_type": "code",
      "execution_count": 8,
      "metadata": {
        "id": "U6DVkTKxqqGA"
      },
      "outputs": [
        {
          "name": "stdout",
          "output_type": "stream",
          "text": [
            "                      Nulls  Num_of_nulls [qty]  Num_of_nulls [%]\n",
            "age                   False                   0              0.00\n",
            "gender                False                   0              0.00\n",
            "bmi                   False                   0              0.00\n",
            "who_bmi               False                   0              0.00\n",
            "phq_score             False                   0              0.00\n",
            "depression_severity    True                   8              0.51\n",
            "depressiveness         True                   6              0.38\n",
            "suicidal               True                   2              0.13\n",
            "depression_diagnosis   True                   2              0.13\n",
            "depression_treatment   True                   8              0.51\n",
            "gad_score             False                   0              0.00\n",
            "anxiety_severity      False                   0              0.00\n",
            "anxiousness            True                  12              0.77\n",
            "anxiety_diagnosis      True                   8              0.51\n",
            "anxiety_treatment      True                   4              0.26\n",
            "epworth_score          True                  16              1.02\n",
            "sleepiness             True                  16              1.02\n"
          ]
        }
      ],
      "source": [
        "# Check nulls\n",
        "nulls_summary = pd.DataFrame({\n",
        "    'Nulls': df.isnull().any(),\n",
        "    'Num_of_nulls [qty]': df.isnull().sum(),\n",
        "    'Num_of_nulls [%]': round(df.isnull().mean()*100, 2)\n",
        "})\n",
        "print(nulls_summary)"
      ]
    },
    {
      "cell_type": "code",
      "execution_count": 9,
      "metadata": {
        "id": "oFxpDbOTqvk6"
      },
      "outputs": [
        {
          "name": "stdout",
          "output_type": "stream",
          "text": [
            "age: Number of unique values 13\n",
            "gender: Number of unique values 2\n",
            "bmi: Number of unique values 516\n",
            "who_bmi: Number of unique values 7\n",
            "phq_score: Number of unique values 24\n",
            "depression_severity: Number of unique values 6\n",
            "depressiveness: Number of unique values 2\n",
            "suicidal: Number of unique values 2\n",
            "depression_diagnosis: Number of unique values 2\n",
            "depression_treatment: Number of unique values 2\n",
            "gad_score: Number of unique values 22\n",
            "anxiety_severity: Number of unique values 5\n",
            "anxiousness: Number of unique values 2\n",
            "anxiety_diagnosis: Number of unique values 2\n",
            "anxiety_treatment: Number of unique values 2\n",
            "epworth_score: Number of unique values 24\n",
            "sleepiness: Number of unique values 2\n"
          ]
        }
      ],
      "source": [
        "# Checking number of unique values in each feature\n",
        "for column in df.columns:\n",
        "    print(f\"{column}: Number of unique values {df[column].nunique()}\")"
      ]
    },
    {
      "cell_type": "code",
      "execution_count": null,
      "metadata": {
        "id": "xQ_XO2egnE17",
        "outputId": "ace3a9dc-2ec2-47fd-a8e1-1506d671fc5b"
      },
      "outputs": [
        {
          "data": {
            "text/plain": [
              "anxiety_severity\n",
              "Mild            606\n",
              "None-minimal    568\n",
              "Moderate        248\n",
              "Severe          132\n",
              "0                12\n",
              "Name: count, dtype: int64"
            ]
          },
          "execution_count": 13,
          "metadata": {},
          "output_type": "execute_result"
        }
      ],
      "source": [
        "# Describe the level of anxiety and the number of people in each level\n",
        "df['anxiety_severity'].value_counts()"
      ]
    },
    {
      "cell_type": "code",
      "execution_count": 10,
      "metadata": {
        "id": "zipdNGtanE18",
        "outputId": "54ff82f9-06d4-49f5-88be-14c8ad467259"
      },
      "outputs": [
        {
          "data": {
            "text/plain": [
              "(1530, 17)"
            ]
          },
          "execution_count": 10,
          "metadata": {},
          "output_type": "execute_result"
        }
      ],
      "source": [
        "# drop rows with missing values & check the shape of dataset after doing that\n",
        "df = df.dropna()\n",
        "df.shape"
      ]
    },
    {
      "cell_type": "markdown",
      "metadata": {
        "id": "vJ7pyvP1nE18"
      },
      "source": [
        "# **Visualizations**\n"
      ]
    },
    {
      "cell_type": "markdown",
      "metadata": {
        "id": "4UqMZqNSnE19"
      },
      "source": [
        "# Univariate Analysis"
      ]
    },
    {
      "cell_type": "code",
      "execution_count": 11,
      "metadata": {
        "id": "FlWVse8FnE1_",
        "outputId": "6580fb62-72e8-4a73-c42a-1a03d2b87cfa"
      },
      "outputs": [
        {
          "data": {
            "image/png": "[encoded data removed]",
            "text/plain": [
              "<Figure size 600x600 with 1 Axes>"
            ]
          },
          "metadata": {},
          "output_type": "display_data"
        }
      ],
      "source": [
        "# Visualize the target col (anxiety_severity)\n",
        "anxiety_counts = df['anxiety_severity'].value_counts()\n",
        "\n",
        "colors = ['#ff9999','#66b3ff','#99ff99','#ffcc99', '#c2c2f0', '#ffb3e6']\n",
        "\n",
        "plt.figure(figsize=(6,6))\n",
        "plt.pie(anxiety_counts, labels=anxiety_counts.index, autopct='%1.1f%%', startangle=90, colors=colors)\n",
        "plt.title(\"Anxiety Severity Distribution\\n\")\n",
        "plt.axis('equal')\n",
        "plt.show()"
      ]
    },
    {
      "cell_type": "markdown",
      "metadata": {
        "id": "7KyK54JnnE1_"
      },
      "source": [
        "> As the fig shown:\n",
        "1.   8.5% of Dataset has Severe anxiety\n",
        "2.   36.6% hasn't anxiety\n",
        "3.   39% has a mild anxiety\n",
        "4.   16.2% has a moderate"
      ]
    },
    {
      "cell_type": "code",
      "execution_count": 12,
      "metadata": {
        "id": "zo1kGlPNnE2A",
        "outputId": "5e312a6a-3789-4b29-fcc4-063fd62bc78c"
      },
      "outputs": [
        {
          "data": {
            "image/png": "[encoded data removed]",
            "text/plain": [
              "<Figure size 800x600 with 1 Axes>"
            ]
          },
          "metadata": {},
          "output_type": "display_data"
        }
      ],
      "source": [
        "# Count the values in gender\n",
        "gender_counts = df['gender'].value_counts()\n",
        "\n",
        "plt.figure(figsize=(8,6))\n",
        "plt.pie(gender_counts, labels=gender_counts.index, autopct='%1.1f%%', startangle=90)\n",
        "\n",
        "plt.title(\"Gender Distribution\")\n",
        "plt.axis('equal')\n",
        "plt.show()"
      ]
    },
    {
      "cell_type": "markdown",
      "metadata": {
        "id": "rMHMMUCtr8bq"
      },
      "source": [
        "\n",
        "\n",
        "> Females are slightly more than Males in Dataset\n",
        "\n"
      ]
    },
    {
      "cell_type": "markdown",
      "metadata": {
        "id": "05RmaoPVsS8H"
      },
      "source": [
        "# Bivariate Analysis"
      ]
    },
    {
      "cell_type": "code",
      "execution_count": 13,
      "metadata": {
        "id": "NrDPvYvSnE2B",
        "outputId": "a5653d97-2df1-499b-8b26-d600ff15f768"
      },
      "outputs": [
        {
          "data": {
            "image/png": "[encoded data removed]",
            "text/plain": [
              "<Figure size 1000x600 with 1 Axes>"
            ]
          },
          "metadata": {},
          "output_type": "display_data"
        }
      ],
      "source": [
        "# Group data by anxiety_severity and age\n",
        "plt.figure(figsize=(10,6))\n",
        "sns.countplot(x='anxiety_severity', hue='gender', data=df, palette='Set1')\n",
        "\n",
        "plt.title(\"Count of Gender by Anxiety Severity\")\n",
        "plt.xlabel(\"Anxiety Severity\")\n",
        "plt.ylabel(\"Count of Gender\")\n",
        "plt.legend(title='Gender', bbox_to_anchor=(1.05, 1), loc='upper left')\n",
        "plt.show()"
      ]
    },
    {
      "cell_type": "code",
      "execution_count": null,
      "metadata": {
        "id": "jfEeLCPnnE2B",
        "outputId": "52af6123-b554-4a45-f22d-398e5fabd4fa"
      },
      "outputs": [
        {
          "data": {
            "image/png": "[encoded data removed]",
            "text/plain": [
              "<Figure size 1000x600 with 1 Axes>"
            ]
          },
          "metadata": {},
          "output_type": "display_data"
        }
      ],
      "source": [
        "# Group data by anxiety_severity and age\n",
        "plt.figure(figsize=(10,6))\n",
        "sns.countplot(x='anxiety_severity', hue='age', data=df, palette='Set1')\n",
        "\n",
        "plt.title(\"Count of Age by Anxiety Severity\")\n",
        "plt.xlabel(\"Anxiety Severity\")\n",
        "plt.ylabel(\"Count of Age\")\n",
        "plt.legend(title='Age', bbox_to_anchor=(1.05, 1), loc='upper left')\n",
        "plt.show()"
      ]
    },
    {
      "cell_type": "code",
      "execution_count": null,
      "metadata": {
        "id": "5nt3Y9PqnE2C",
        "outputId": "b1327fd6-731d-4c08-a446-58867343c40f"
      },
      "outputs": [
        {
          "data": {
            "image/png": "[encoded data removed]",
            "text/plain": [
              "<Figure size 640x480 with 1 Axes>"
            ]
          },
          "metadata": {},
          "output_type": "display_data"
        }
      ],
      "source": [
        "#The relationship between the Depressiveness and Anxiousness\n",
        "sns.violinplot(x='depressiveness', y='anxiousness', data=df, palette='Blues')\n",
        "plt.xlabel('Depressiveness')\n",
        "plt.ylabel('Anxiousness')\n",
        "plt.title('Violin Plot of Anxiousness and Depressiveness Level')\n",
        "plt.show()"
      ]
    },
    {
      "cell_type": "markdown",
      "metadata": {
        "id": "rRa8b02tnE2C"
      },
      "source": [
        "Based on this violin plot, it appears that individuals who are depressed (True) tend to have higher levels of anxiety compared to those who are not depressed (False). However, it's important to note that there is still some overlap between the two groups, meaning that not everyone who is depressed will have high anxiety, and not everyone who has high anxiety will be depressed"
      ]
    },
    {
      "cell_type": "markdown",
      "metadata": {
        "id": "NnOhDHKdnE2D"
      },
      "source": []
    },
    {
      "cell_type": "code",
      "execution_count": null,
      "metadata": {},
      "outputs": [],
      "source": []
    }
  ],
  "metadata": {
    "colab": {
      "provenance": []
    },
    "kernelspec": {
      "display_name": "Python 3",
      "language": "python",
      "name": "python3"
    },
    "language_info": {
      "codemirror_mode": {
        "name": "ipython",
        "version": 3
      },
      "file_extension": ".py",
      "mimetype": "text/x-python",
      "name": "python",
      "nbconvert_exporter": "python",
      "pygments_lexer": "ipython3",
      "version": "3.11.5"
    }
  },
  "nbformat": 4,
  "nbformat_minor": 0
}
